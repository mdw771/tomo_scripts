{
 "cells": [
  {
   "cell_type": "markdown",
   "metadata": {},
   "source": [
    "NOTE:\n",
    "Put the notebook or script in the same directory as hdf5 files. For routinary testing, skip find shift, read shift corrections, create panorama (unless you want to see stitched projections), and manual center refining."
   ]
  },
  {
   "cell_type": "heading",
   "metadata": {},
   "level": 1,
   "source": [
    "Load dependencies"
   ]
  },
  {
   "cell_type": "code",
   "execution_count": 2,
   "metadata": {},
   "outputs": [],
   "source": [
    "import tomosaic\n",
    "import tomopy\n",
    "import dxchange\n",
    "import numpy as np\n",
    "import h5py\n",
    "from scipy.ndimage import imread\n",
    "import os, time, sys\n",
    "import shutil\n",
    "from itertools import izip\n",
    "import glob\n",
    "from scipy.misc import imread"
   ]
  },
  {
   "cell_type": "heading",
   "metadata": {},
   "level": 1,
   "source": [
    "Essentials"
   ]
  },
  {
   "cell_type": "code",
   "execution_count": null,
   "metadata": {},
   "outputs": [],
   "source": [
    "# -------- options --------\n",
    "blend_method = 'pyramid'\n",
    "pr_method = 'paganin'\n",
    "ds_level = 2\n",
    "pr_kwargs = {'distance': 50,\n",
    "             'pixel': 0.8e-4 * ds_level,\n",
    "             'energy': 25,\n",
    "             'alpha': 1e-3}\n",
    "dtype = 'float16'\n",
    "# --------- paths ---------\n",
    "if 'data_raw' in os.getcwd():\n",
    "    print('Warning: the current directory may not be the root folder. The script must be executed in the root '\n",
    "          'directory, i.e., outside of any data_raw_xx folders!')\n",
    "raw_folder = os.getcwd()\n",
    "moved_data_folder = os.getcwd() + '/data_raw_1x'\n",
    "ds_data_folder = os.getcwd() + '/data_raw_{:d}x'.format(ds_level)\n",
    "fuse_folder = os.getcwd() + '/fulldata_flatcorr_{:d}x'.format(ds_level)\n",
    "paras_folder = os.getcwd()\n",
    "raw_save_folder = os.getcwd() + '/fulldata_raw_{:d}x'.format(ds_level)\n",
    "pr_save_folder = os.getcwd() + '/fulldata_{:s}_{:d}x'.format(pr_method, ds_level)\n",
    "recon_raw_save_folder = os.getcwd() + '/recon_raw_{:d}x'.format(ds_level)\n",
    "recon_pr_save_folder = os.getcwd() + '/recon_{:s}_{:d}x'.format(pr_method, ds_level)\n",
    "# --------- metas ---------\n",
    "prefix = 'eshrew_Os_stand_mosaic_70ms_25739eV_300mmWD_10X3_0'\n",
    "x_cam = np.floor(1920 / ds_level)\n",
    "y_cam = np.floor(1200 / ds_level)\n",
    "x_shift = np.floor(1572 / ds_level)\n",
    "y_shift = np.floor(1109 / ds_level)\n",
    "center_guess = 6440 / ds_level\n",
    "center_vec = np.array([6451, 6447, 6440, 6427, 6424, 6421, 6420, 6414, 6404, 6399, 6399])\n",
    "center_vec /= ds_level"
   ]
  },
  {
   "cell_type": "heading",
   "metadata": {},
   "level": 1,
   "source": [
    "Initialize lists and grids to current folder"
   ]
  },
  {
   "cell_type": "code",
   "execution_count": null,
   "metadata": {},
   "outputs": [],
   "source": [
    "# try root folder, then ./data_raw_1x/\n",
    "try:\n",
    "    file_list = tomosaic.get_files(raw_folder, prefix, type='h5')\n",
    "    file_grid = tomosaic.start_file_grid(file_list, pattern=1)\n",
    "    shift_grid = tomosaic.start_shift_grid(file_grid, x_shift, y_shift)\n",
    "    f = h5py.File(file_list[0], 'r')\n",
    "    full_shape = f[\"exchange/data\"].shape\n",
    "    n_frames = full_shape[0]\n",
    "    os.chdir(raw_folder)\n",
    "except:\n",
    "    try:\n",
    "        file_list = tomosaic.get_files(moved_data_folder, prefix, type='h5')\n",
    "        file_grid = tomosaic.start_file_grid(file_list, pattern=1)\n",
    "        f = h5py.File(moved_data_folder+'/'+file_list[0], 'r')\n",
    "        full_shape = f[\"exchange/data\"].shape\n",
    "        n_frames = full_shape[0]\n",
    "        os.chdir(raw_folder)\n",
    "    except:\n",
    "        print('Error: no file exists in root folder. If hdf5\\'s has been moved to elsewhere, update file grid.')\n",
    "        exit()"
   ]
  },
  {
   "cell_type": "heading",
   "metadata": {},
   "level": 1,
   "source": [
    "Move all hdf5's to ./data_raw_1x/"
   ]
  },
  {
   "cell_type": "code",
   "execution_count": null,
   "metadata": {},
   "outputs": [],
   "source": [
    "os.chdir(raw_folder)\n",
    "if os.path.exists('data_raw_1x'):\n",
    "    for f in file_list:\n",
    "        shutil.move(f, 'data_raw_1x/' + f)"
   ]
  },
  {
   "cell_type": "heading",
   "metadata": {},
   "level": 1,
   "source": [
    "Create 2x and 4x downsampling"
   ]
  },
  {
   "cell_type": "code",
   "execution_count": null,
   "metadata": {},
   "outputs": [],
   "source": [
    "os.chdir(raw_folder)\n",
    "tomosaic.util.reorganize_dir(file_list, raw_ds=[2, 4], pr_ds=[])"
   ]
  },
  {
   "cell_type": "heading",
   "metadata": {},
   "level": 1,
   "source": [
    "Output all flats and darks (based on 1x)"
   ]
  },
  {
   "cell_type": "code",
   "execution_count": null,
   "metadata": {},
   "outputs": [],
   "source": [
    "os.chdir(moved_data_folder)\n",
    "for (y, x), value in np.ndenumerate(file_grid):\n",
    "    try:\n",
    "        prj, flt, drk = dxchange.read_aps_32id(moved_data_folder+'/'+value, proj=(0, 1))\n",
    "        fname = prefix + 'Y' + str(y).zfill(2) + '_X' + str(x).zfill(2)\n",
    "        dxchange.write_tiff_stack(flt, fname=os.path.join('partial_frames', 'partial_flats', fname))\n",
    "        dxchange.write_tiff_stack(drk, fname=os.path.join('partial_frames', 'partial_darks', fname))\n",
    "    except:\n",
    "        print('({:d}, {:d} not written.)'.format(y, x))\n",
    "os.chdir(raw_folder)"
   ]
  },
  {
   "cell_type": "heading",
   "metadata": {},
   "level": 1,
   "source": [
    "Find shift (based on 1x)"
   ]
  },
  {
   "cell_type": "code",
   "execution_count": null,
   "metadata": {},
   "outputs": [],
   "source": [
    "os.chdir(moved_data_folder)\n",
    "refined_shift = tomosaic.refine_shift_grid(file_grid, shift_grid)\n",
    "np.savetxt(paras_folder+\"/shifts.txt\", refined_shift, fmt=str('%4.2f'))\n",
    "os.chdir(raw_folder)"
   ]
  },
  {
   "cell_type": "heading",
   "metadata": {},
   "level": 1,
   "source": [
    "Read shift from ./shifts.txt (based on 1x)"
   ]
  },
  {
   "cell_type": "code",
   "execution_count": null,
   "metadata": {},
   "outputs": [],
   "source": [
    "os.chdir(raw_folder)\n",
    "shift_grid = tomosaic.util.file2grid(paras_folder+\"/shifts.txt\")\n",
    "shift_grid = tomosaic.absolute_shift_grid(shift_grid, file_grid)\n",
    "print shift_grid"
   ]
  },
  {
   "cell_type": "heading",
   "metadata": {},
   "level": 1,
   "source": [
    "Downsize shift grid"
   ]
  },
  {
   "cell_type": "code",
   "execution_count": null,
   "metadata": {},
   "outputs": [],
   "source": [
    "shift_grid /= ds_level"
   ]
  },
  {
   "cell_type": "heading",
   "metadata": {},
   "level": 1,
   "source": [
    "Create and save projection panoramas (can be used for ds)"
   ]
  },
  {
   "cell_type": "code",
   "execution_count": null,
   "metadata": {},
   "outputs": [],
   "source": [
    "# --------------------------------#\n",
    "# Set ds_level before proceeding. #\n",
    "# --------------------------------#\n",
    "loc = raw_input('Do you want to stitch 1x or downsampled data? (1 or d)')\n",
    "if loc == '1':\n",
    "    os.chdir(moved_data_folder)\n",
    "elif loc == 'd':\n",
    "    os.chdir(ds_data_folder)\n",
    "else:\n",
    "    print('Error: check your input.')\n",
    "    exit()\n",
    "t0 = time.time()\n",
    "print \"    Building panograms...\"\n",
    "for frame in range(0, n_frames, int(n_frames/4)-1):\n",
    "    print \"        Now at \" + str(frame) + \"/\" + str(n_frames)\n",
    "    pano = tomosaic.build_panorama(file_grid, shift_grid, frame=frame, method='pyramid').astype('float32')\n",
    "    dxchange.write_tiff(pano, \"panos_{:d}x/frame{:04d}\".format(ds_level, frame))\n",
    "print \"    Building done in \" + str(time.time() - t0) + \" sec.\"\n",
    "os.chdir(raw_folder)"
   ]
  },
  {
   "cell_type": "heading",
   "metadata": {},
   "level": 1,
   "source": [
    "Total fusion (can be used for ds)"
   ]
  },
  {
   "cell_type": "code",
   "execution_count": null,
   "metadata": {},
   "outputs": [],
   "source": [
    "# --------------------------------#\n",
    "# Set ds_level before proceeding. #\n",
    "# --------------------------------#\n",
    "# create h5 for raw data without PR\n",
    "tomosaic.util.total_fusion(ds_data_folder, fuse_folder, 'fulldata_flatcorr.h5', file_grid, shift_grid, \n",
    "                           blend_method=blend_method)"
   ]
  },
  {
   "cell_type": "heading",
   "metadata": {},
   "level": 1,
   "source": [
    "Refine rotation center manually (based on 1x)"
   ]
  },
  {
   "cell_type": "code",
   "execution_count": null,
   "metadata": {},
   "outputs": [],
   "source": [
    "os.chdir(moved_data_folder)\n",
    "for center in range(center_guess - 20, center_guess + 20, 1):\n",
    "    center_vec[:] = center\n",
    "    tomosaic.recon.recon_block(file_grid, shift_grid, (y_cam/2, y_cam/2+(file_grid.shape[0]-1)*y_shift+10), \n",
    "                               y_shift, raw_folder+\"/center_test\", center_vec, algorithm='gridrec')\n",
    "os.chdir(raw_folder)"
   ]
  },
  {
   "cell_type": "heading",
   "metadata": {},
   "level": 1,
   "source": [
    "Reconstruct using discrete files"
   ]
  },
  {
   "cell_type": "code",
   "execution_count": null,
   "metadata": {},
   "outputs": [],
   "source": [
    "# --------------------------------#\n",
    "# Set ds_level before proceeding. #\n",
    "# --------------------------------#\n",
    "loc = raw_input('Do you want to stitch 1x or downsampled data? (1 or d)')\n",
    "if loc == '1':\n",
    "    os.chdir(moved_data_folder)\n",
    "elif loc == 'd':\n",
    "    os.chdir(ds_data_folder)\n",
    "else:\n",
    "    print('Error: check your input.')\n",
    "    exit()\n",
    "tomosaic.recon.recon_block(file_grid, shift_grid, (0, 6000), 1, folder + \"/recon\", center_vec, \n",
    "                                    blend_method='pyramid', algorithm='gridrec', filter_name='parzen', \n",
    "                                    format='float32', crop=[[1300, 0], [9000, 12000]])"
   ]
  },
  {
   "cell_type": "heading",
   "metadata": {},
   "level": 1,
   "source": [
    "Reconstruct using fused file"
   ]
  },
  {
   "cell_type": "code",
   "execution_count": null,
   "metadata": {},
   "outputs": [],
   "source": [
    "# -------------------------------- #\n",
    "# Set ds_level before proceeding.  #\n",
    "# -------------------------------- # \n",
    "start = 0\n",
    "end = 6000\n",
    "tp = raw_input('Use phase-retrieved data? (y/n)')\n",
    "if tp == 'y':\n",
    "    fname = 'fulldata_pag_{:d}x.h5'.format(ds_level)\n",
    "    os.chdir(pr_save_folder)\n",
    "elif tp == 'n':\n",
    "    fname = 'fulldata_raw_{:d}x.h5'.format(ds_level)\n",
    "    os.chdir(raw_save_folder)\n",
    "theta = tomopy.angles(n_frames)\n",
    "grid_bins = np.ceil(shift_grid[:, 0])\n",
    "for slice in range(start, end):\n",
    "    proj, _, _ = dxchange.read_aps_32id(fname, sino=(slice, slice+1))\n",
    "    grid_line = np.digitize(slice, grid_bins)\n",
    "    grid_line = grid_line[0]\n",
    "    center = center_vec[grid_line]\n",
    "    rec = tomopy.recon(proj, theta, center=center, algorithm='gridrec')\n",
    "    rec = tomopy.circ_mask(rec, axis=0, ratio=0.95)\n",
    "    dxchange.write_tiff(rec, fname='recon_{:d}x_{:05d}'.format(ds_level, slice), dtype='float16')\n",
    "os.chdir(raw_folder)"
   ]
  },
  {
   "cell_type": "heading",
   "metadata": {},
   "level": 1,
   "source": [
    "Convert tiff stack to hdf5"
   ]
  },
  {
   "cell_type": "code",
   "execution_count": null,
   "metadata": {},
   "outputs": [],
   "source": [
    "tp = raw_input('Use phase-retrieved data? (y/n)')\n",
    "if tp == 'y':\n",
    "    os.chdir(recon_pr_save_folder)\n",
    "    fname = 'fulldata_pag_{:d}x.h5'.format(ds_level)\n",
    "    f = h5py.File('recon_pag_{:d}x'.format(ds_level))\n",
    "elif tp == 'n':\n",
    "    os.chdir(recon_raw_save_folder)\n",
    "    fname = 'fulldata_raw_{:d}x.h5'.format(ds_level)\n",
    "    os.chdir(raw_save_folder)\n",
    "    f = h5py.File('recon_raw_{:d}x'.format(ds_level))\n",
    "tiff_list = glob.glob('*.tiff').sorted()\n",
    "temp = imread(tiff_list[0])\n",
    "dset = f.create_dataset('data', (len(tiff_list), temp.shape[0], temp.shape[1]))\n",
    "for i in range(len(tiff_list)):\n",
    "    dset[i, :, :] = imread(tiff_list[i])\n",
    "f.close()\n",
    "os.chdir(raw_folder)"
   ]
  }
 ],
 "metadata": {
  "kernelspec": {
   "display_name": "Python [Root]",
   "language": "python",
   "name": "Python [Root]"
  },
  "language_info": {
   "codemirror_mode": {
    "name": "ipython",
    "version": 2.0
   },
   "file_extension": ".py",
   "mimetype": "text/x-python",
   "name": "python",
   "nbconvert_exporter": "python",
   "pygments_lexer": "ipython2",
   "version": "2.7.11"
  }
 },
 "nbformat": 4,
 "nbformat_minor": 0
}